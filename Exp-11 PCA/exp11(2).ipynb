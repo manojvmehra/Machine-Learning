{
  "nbformat": 4,
  "nbformat_minor": 0,
  "metadata": {
    "colab": {
      "provenance": []
    },
    "kernelspec": {
      "name": "python3",
      "display_name": "Python 3"
    },
    "language_info": {
      "name": "python"
    }
  },
  "cells": [
    {
      "cell_type": "code",
      "execution_count": 9,
      "metadata": {
        "id": "HMAmb5Ez2TGC"
      },
      "outputs": [],
      "source": [
        "import pandas as pd"
      ]
    },
    {
      "cell_type": "code",
      "source": [
        "data = {\n",
        "    'Climate': [0.190, 0.017, 0.207],\n",
        "    'Housing': [0.544, 0.020, 0.204],\n",
        "    'Health': [0.782, -0.605, 0.144],\n",
        "    'Crime': [0.365, 0.294, 0.585],\n",
        "    'Transportation': [0.585, 0.085, 0.234],\n",
        "    'Education': [0.394, -0.273, 0.027],\n",
        "    'Arts': [0.985, 0.126, -0.111],\n",
        "    'Recreation': [0.520, 0.402, 0.519],\n",
        "    'Economy': [0.142, 0.150, 0.239]\n",
        "}"
      ],
      "metadata": {
        "id": "mCPrOS1Y2T1x"
      },
      "execution_count": 10,
      "outputs": []
    },
    {
      "cell_type": "code",
      "source": [
        "df = pd.DataFrame(data, index=['PC1','PC2','PC3']).T"
      ],
      "metadata": {
        "id": "HsDWbjGb2Zvy"
      },
      "execution_count": 3,
      "outputs": []
    },
    {
      "cell_type": "code",
      "source": [
        "print(\"PCA Loadings:\")\n",
        "print(df)"
      ],
      "metadata": {
        "colab": {
          "base_uri": "https://localhost:8080/"
        },
        "id": "yR8GrvS-26Yo",
        "outputId": "4ab71193-f9bb-452a-a230-c28288e266c5"
      },
      "execution_count": 11,
      "outputs": [
        {
          "output_type": "stream",
          "name": "stdout",
          "text": [
            "PCA Loadings:\n",
            "                  PC1    PC2    PC3\n",
            "Climate         0.190  0.017  0.207\n",
            "Housing         0.544  0.020  0.204\n",
            "Health          0.782 -0.605  0.144\n",
            "Crime           0.365  0.294  0.585\n",
            "Transportation  0.585  0.085  0.234\n",
            "Education       0.394 -0.273  0.027\n",
            "Arts            0.985  0.126 -0.111\n",
            "Recreation      0.520  0.402  0.519\n",
            "Economy         0.142  0.150  0.239\n"
          ]
        }
      ]
    },
    {
      "cell_type": "code",
      "source": [
        "dominant_vars = df.abs().idxmax()\n",
        "print(\"\\nDominant Variable for each Principal Component:\")\n",
        "print(dominant_vars)"
      ],
      "metadata": {
        "colab": {
          "base_uri": "https://localhost:8080/"
        },
        "id": "cluLfinw29Cx",
        "outputId": "7cbd80af-7e23-4e56-f56d-c699f2285d9c"
      },
      "execution_count": 12,
      "outputs": [
        {
          "output_type": "stream",
          "name": "stdout",
          "text": [
            "\n",
            "Dominant Variable for each Principal Component:\n",
            "PC1      Arts\n",
            "PC2    Health\n",
            "PC3     Crime\n",
            "dtype: object\n"
          ]
        }
      ]
    },
    {
      "cell_type": "code",
      "source": [],
      "metadata": {
        "id": "FzTc1zri2_NP"
      },
      "execution_count": 12,
      "outputs": []
    },
    {
      "cell_type": "code",
      "source": [],
      "metadata": {
        "id": "392gp_tR3BpG"
      },
      "execution_count": null,
      "outputs": []
    }
  ]
}