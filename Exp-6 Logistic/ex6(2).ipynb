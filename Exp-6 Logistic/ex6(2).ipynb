{
  "nbformat": 4,
  "nbformat_minor": 0,
  "metadata": {
    "colab": {
      "provenance": []
    },
    "kernelspec": {
      "name": "python3",
      "display_name": "Python 3"
    },
    "language_info": {
      "name": "python"
    }
  },
  "cells": [
    {
      "cell_type": "code",
      "execution_count": 1,
      "metadata": {
        "id": "z7sQG-qlHJ8_"
      },
      "outputs": [],
      "source": [
        "import pandas as pd\n",
        "import statsmodels.api as sm\n",
        "import numpy as np\n",
        "from sklearn.metrics import confusion_matrix"
      ]
    },
    {
      "cell_type": "code",
      "source": [
        "data = pd.DataFrame({\n",
        "    'age':   [22, 25, 18, 45, 12, 43, 23, 33],\n",
        "    'gender': ['female', 'female', 'male', 'male', 'female', 'male', 'male', 'male'],\n",
        "    'smoker': ['non-smoker', 'smoker', 'smoker', 'non-smoker', 'smoker', 'smoker', 'smoker', 'smoker'],\n",
        "    'disease': [1, 1, 0, 0, 0, 1, 0, 1]\n",
        "})"
      ],
      "metadata": {
        "id": "eGqvhDhAHLjE"
      },
      "execution_count": 2,
      "outputs": []
    },
    {
      "cell_type": "code",
      "source": [
        "data['gender_male'] = (data['gender'] == 'male').astype(int)\n",
        "data['smoker_yes'] = (data['smoker'] == 'smoker').astype(int)"
      ],
      "metadata": {
        "id": "EOXyo_n-HR7j"
      },
      "execution_count": 3,
      "outputs": []
    },
    {
      "cell_type": "code",
      "source": [
        "X = data[['age', 'gender_male', 'smoker_yes']]\n",
        "y = data['disease']"
      ],
      "metadata": {
        "id": "OmEFfrDYHUv7"
      },
      "execution_count": 4,
      "outputs": []
    },
    {
      "cell_type": "code",
      "source": [
        "X = sm.add_constant(X)"
      ],
      "metadata": {
        "id": "gNklNfTnHXAw"
      },
      "execution_count": 5,
      "outputs": []
    },
    {
      "cell_type": "code",
      "source": [
        "X = X.astype(float)\n",
        "y = y.astype(float)"
      ],
      "metadata": {
        "id": "7WgIS8f8HdzB"
      },
      "execution_count": 6,
      "outputs": []
    },
    {
      "cell_type": "code",
      "source": [
        "model = sm.Logit(y, X)\n",
        "result = model.fit(disp=False)"
      ],
      "metadata": {
        "id": "c0f_hPdiHfyw"
      },
      "execution_count": 7,
      "outputs": []
    },
    {
      "cell_type": "code",
      "source": [
        "print(result.summary())"
      ],
      "metadata": {
        "colab": {
          "base_uri": "https://localhost:8080/"
        },
        "id": "SSoHxBTPHh5Y",
        "outputId": "6f71ac95-6074-41b3-90a8-c20c0aa54d70"
      },
      "execution_count": 8,
      "outputs": [
        {
          "output_type": "stream",
          "name": "stdout",
          "text": [
            "                           Logit Regression Results                           \n",
            "==============================================================================\n",
            "Dep. Variable:                disease   No. Observations:                    8\n",
            "Model:                          Logit   Df Residuals:                        4\n",
            "Method:                           MLE   Df Model:                            3\n",
            "Date:                Wed, 10 Sep 2025   Pseudo R-squ.:                  0.4218\n",
            "Time:                        05:36:53   Log-Likelihood:                -3.2061\n",
            "converged:                       True   LL-Null:                       -5.5452\n",
            "Covariance Type:            nonrobust   LLR p-value:                    0.1969\n",
            "===============================================================================\n",
            "                  coef    std err          z      P>|z|      [0.025      0.975]\n",
            "-------------------------------------------------------------------------------\n",
            "const          -7.1622      6.833     -1.048      0.295     -20.554       6.229\n",
            "age             0.3188      0.291      1.095      0.274      -0.252       0.889\n",
            "gender_male    -7.0319      6.564     -1.071      0.284     -19.898       5.834\n",
            "smoker_yes      3.5385      3.682      0.961      0.337      -3.678      10.755\n",
            "===============================================================================\n"
          ]
        }
      ]
    },
    {
      "cell_type": "code",
      "source": [
        "params = result.params\n",
        "conf = result.conf_int()\n",
        "odds_ratios = np.exp(params)\n",
        "conf_odds = np.exp(conf)\n",
        "print(\"\\nOdds Ratios:\\n\", odds_ratios)\n",
        "print(\"\\n95% CI for Odds Ratios:\\n\", conf_odds)"
      ],
      "metadata": {
        "colab": {
          "base_uri": "https://localhost:8080/"
        },
        "id": "gT0uC0MZHj8Q",
        "outputId": "e61f3118-4f1b-4f43-eee5-f929d6d7a874"
      },
      "execution_count": 9,
      "outputs": [
        {
          "output_type": "stream",
          "name": "stdout",
          "text": [
            "\n",
            "Odds Ratios:\n",
            " const           0.000775\n",
            "age             1.375409\n",
            "gender_male     0.000883\n",
            "smoker_yes     34.414345\n",
            "dtype: float64\n",
            "\n",
            "95% CI for Odds Ratios:\n",
            "                         0             1\n",
            "const        1.184718e-09    507.435846\n",
            "age          7.773859e-01      2.433475\n",
            "gender_male  2.283408e-09    341.635124\n",
            "smoker_yes   2.528397e-02  46841.826989\n"
          ]
        }
      ]
    },
    {
      "cell_type": "code",
      "source": [
        "data['pred_prob'] = result.predict(X)\n",
        "data['pred_class'] = (data['pred_prob'] >= 0.5).astype(int)"
      ],
      "metadata": {
        "id": "p1-ynNw9Hodw"
      },
      "execution_count": 10,
      "outputs": []
    },
    {
      "cell_type": "code",
      "source": [
        "print(\"\\nPredictions:\")\n",
        "print(data[['age', 'gender', 'smoker', 'disease', 'pred_prob', 'pred_class']])"
      ],
      "metadata": {
        "colab": {
          "base_uri": "https://localhost:8080/"
        },
        "id": "sjRCg-xVHthI",
        "outputId": "b8a8edf7-ac61-42e5-c0c0-0f85bed42b75"
      },
      "execution_count": 11,
      "outputs": [
        {
          "output_type": "stream",
          "name": "stdout",
          "text": [
            "\n",
            "Predictions:\n",
            "   age  gender      smoker  disease  pred_prob  pred_class\n",
            "0   22  female  non-smoker        1   0.462651           0\n",
            "1   25  female      smoker        1   0.987195           1\n",
            "2   18    male      smoker        0   0.007260           0\n",
            "3   45    male  non-smoker        0   0.537349           1\n",
            "4   12  female      smoker        0   0.550153           1\n",
            "5   43    male      smoker        1   0.954810           1\n",
            "6   23    male      smoker        0   0.034744           0\n",
            "7   33    male      smoker        1   0.465837           0\n"
          ]
        }
      ]
    },
    {
      "cell_type": "code",
      "source": [
        "cm = confusion_matrix(y, data['pred_class'])\n",
        "accuracy = (data['pred_class'] == y).mean()\n",
        "print(\"\\nConfusion Matrix:\\n\", cm)\n",
        "print(f\"\\nAccuracy: {accuracy:.2f}\")"
      ],
      "metadata": {
        "colab": {
          "base_uri": "https://localhost:8080/"
        },
        "id": "wG3X83C6Hv4o",
        "outputId": "2a2302b0-be42-4714-d5be-d3332154c893"
      },
      "execution_count": 12,
      "outputs": [
        {
          "output_type": "stream",
          "name": "stdout",
          "text": [
            "\n",
            "Confusion Matrix:\n",
            " [[2 2]\n",
            " [2 2]]\n",
            "\n",
            "Accuracy: 0.50\n"
          ]
        }
      ]
    },
    {
      "cell_type": "code",
      "source": [],
      "metadata": {
        "id": "J2y3zKdOHyiQ"
      },
      "execution_count": null,
      "outputs": []
    }
  ]
}