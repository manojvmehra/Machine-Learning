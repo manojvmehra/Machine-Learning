{
  "nbformat": 4,
  "nbformat_minor": 0,
  "metadata": {
    "colab": {
      "provenance": []
    },
    "kernelspec": {
      "name": "python3",
      "display_name": "Python 3"
    },
    "language_info": {
      "name": "python"
    }
  },
  "cells": [
    {
      "cell_type": "code",
      "execution_count": 8,
      "metadata": {
        "id": "Aua5M6jAH-XM"
      },
      "outputs": [],
      "source": [
        "import pandas as pd\n",
        "import statsmodels.api as sm\n",
        "import numpy as np\n",
        "from sklearn.metrics import confusion_matrix, classification_report"
      ]
    },
    {
      "cell_type": "code",
      "source": [
        "data = pd.DataFrame({\n",
        "    'decision': ['Buy now','Buy now','Buy now','Buy later','Buy later',\"Don't buy\",\"Don't buy\"],\n",
        "    'gender': ['female','female','male','female','male','female','male'],\n",
        "    'age': [22, 25, 18, 27, 48, 33, 40],\n",
        "    'time_spent': [40, 78, 65, 28, 110, 65, 50]\n",
        "})"
      ],
      "metadata": {
        "id": "LRYY1f5vLckd"
      },
      "execution_count": 9,
      "outputs": []
    },
    {
      "cell_type": "code",
      "source": [
        "data['gender_male'] = (data['gender'] == 'male').astype(int)\n",
        "data['decision'] = data['decision'].astype('category')"
      ],
      "metadata": {
        "id": "jeH8CcFBLeQT"
      },
      "execution_count": 10,
      "outputs": []
    },
    {
      "cell_type": "code",
      "source": [
        "X = data[['gender_male', 'age', 'time_spent']]\n",
        "X = sm.add_constant(X)  # add intercept\n",
        "y = data['decision']"
      ],
      "metadata": {
        "id": "F6SiQbF7LiQb"
      },
      "execution_count": 11,
      "outputs": []
    },
    {
      "cell_type": "code",
      "source": [
        "model = sm.MNLogit(y, X.astype(float))\n",
        "result = model.fit(method='newton', full_output=True, disp=False)"
      ],
      "metadata": {
        "colab": {
          "base_uri": "https://localhost:8080/"
        },
        "id": "v7LBz5t9LlUa",
        "outputId": "3d973ec8-0bad-4046-ae65-1a88c4eabef1"
      },
      "execution_count": 12,
      "outputs": [
        {
          "output_type": "stream",
          "name": "stderr",
          "text": [
            "/usr/local/lib/python3.12/dist-packages/statsmodels/discrete/discrete_model.py:3027: RuntimeWarning: overflow encountered in exp\n",
            "  eXB = np.column_stack((np.ones(len(X)), np.exp(X)))\n",
            "/usr/local/lib/python3.12/dist-packages/statsmodels/discrete/discrete_model.py:3028: RuntimeWarning: invalid value encountered in divide\n",
            "  return eXB/eXB.sum(1)[:,None]\n"
          ]
        }
      ]
    },
    {
      "cell_type": "code",
      "source": [
        "print(result.summary())"
      ],
      "metadata": {
        "colab": {
          "base_uri": "https://localhost:8080/"
        },
        "id": "QX8Bmnl6LnaS",
        "outputId": "78ec2966-15b8-45ae-8eaa-2a78b08823b4"
      },
      "execution_count": 13,
      "outputs": [
        {
          "output_type": "stream",
          "name": "stdout",
          "text": [
            "                          MNLogit Regression Results                          \n",
            "==============================================================================\n",
            "Dep. Variable:               decision   No. Observations:                    7\n",
            "Model:                        MNLogit   Df Residuals:                       -1\n",
            "Method:                           MLE   Df Model:                            6\n",
            "Date:                Wed, 10 Sep 2025   Pseudo R-squ.:                     nan\n",
            "Time:                        06:00:06   Log-Likelihood:                    nan\n",
            "converged:                       True   LL-Null:                       -7.5529\n",
            "Covariance Type:            nonrobust   LLR p-value:                       nan\n",
            "======================================================================================\n",
            "  decision=Buy now       coef    std err          z      P>|z|      [0.025      0.975]\n",
            "--------------------------------------------------------------------------------------\n",
            "const                     nan        nan        nan        nan         nan         nan\n",
            "gender_male               nan        nan        nan        nan         nan         nan\n",
            "age                       nan        nan        nan        nan         nan         nan\n",
            "time_spent                nan        nan        nan        nan         nan         nan\n",
            "--------------------------------------------------------------------------------------\n",
            "decision=Don't buy       coef    std err          z      P>|z|      [0.025      0.975]\n",
            "--------------------------------------------------------------------------------------\n",
            "const                     nan        nan        nan        nan         nan         nan\n",
            "gender_male               nan        nan        nan        nan         nan         nan\n",
            "age                       nan        nan        nan        nan         nan         nan\n",
            "time_spent                nan        nan        nan        nan         nan         nan\n",
            "======================================================================================\n"
          ]
        }
      ]
    },
    {
      "cell_type": "code",
      "source": [
        "pred_probs = result.predict(X)"
      ],
      "metadata": {
        "id": "Eq0vDvT6LrRK"
      },
      "execution_count": 15,
      "outputs": []
    },
    {
      "cell_type": "code",
      "source": [
        "categories = y.cat.categories"
      ],
      "metadata": {
        "id": "9mUgr8JnLumq"
      },
      "execution_count": 17,
      "outputs": []
    },
    {
      "cell_type": "code",
      "source": [
        "pred_probs_df = pd.DataFrame(pred_probs, columns=categories)\n",
        "data = pd.concat([data, pred_probs_df], axis=1)"
      ],
      "metadata": {
        "id": "lnE39pZmP5uq"
      },
      "execution_count": 18,
      "outputs": []
    },
    {
      "cell_type": "code",
      "source": [
        "print(\"\\nPredicted probabilities:\")\n",
        "print(data[['decision'] + list(categories)])"
      ],
      "metadata": {
        "colab": {
          "base_uri": "https://localhost:8080/"
        },
        "id": "hH8Qm_UYP-Aa",
        "outputId": "92bf4784-095b-47e4-99d5-f6f0d3f6c623"
      },
      "execution_count": 20,
      "outputs": [
        {
          "output_type": "stream",
          "name": "stdout",
          "text": [
            "\n",
            "Predicted probabilities:\n",
            "    decision  Buy later  Buy now  Don't buy\n",
            "0    Buy now        NaN      NaN        NaN\n",
            "1    Buy now        NaN      NaN        NaN\n",
            "2    Buy now        NaN      NaN        NaN\n",
            "3  Buy later        NaN      NaN        NaN\n",
            "4  Buy later        NaN      NaN        NaN\n",
            "5  Don't buy        NaN      NaN        NaN\n",
            "6  Don't buy        NaN      NaN        NaN\n"
          ]
        }
      ]
    },
    {
      "cell_type": "code",
      "source": [
        "data['predicted'] = pred_probs_df.idxmax(axis=1)\n",
        "print(\"\\nPredicted decisions:\")\n",
        "print(data[['decision','predicted']])"
      ],
      "metadata": {
        "colab": {
          "base_uri": "https://localhost:8080/"
        },
        "id": "DWXcRFWwQCAS",
        "outputId": "3ed4d142-384f-4122-b8e2-d145da0f2d60"
      },
      "execution_count": 21,
      "outputs": [
        {
          "output_type": "stream",
          "name": "stdout",
          "text": [
            "\n",
            "Predicted decisions:\n",
            "    decision predicted\n",
            "0    Buy now       NaN\n",
            "1    Buy now       NaN\n",
            "2    Buy now       NaN\n",
            "3  Buy later       NaN\n",
            "4  Buy later       NaN\n",
            "5  Don't buy       NaN\n",
            "6  Don't buy       NaN\n"
          ]
        },
        {
          "output_type": "stream",
          "name": "stderr",
          "text": [
            "/tmp/ipython-input-2703123702.py:1: FutureWarning: The behavior of DataFrame.idxmax with all-NA values, or any-NA and skipna=False, is deprecated. In a future version this will raise ValueError\n",
            "  data['predicted'] = pred_probs_df.idxmax(axis=1)\n"
          ]
        }
      ]
    },
    {
      "cell_type": "code",
      "source": [],
      "metadata": {
        "id": "ADL7QPgAQE7q"
      },
      "execution_count": null,
      "outputs": []
    }
  ]
}